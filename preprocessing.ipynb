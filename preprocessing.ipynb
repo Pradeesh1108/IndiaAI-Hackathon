{
 "cells": [
  {
   "cell_type": "code",
   "id": "initial_id",
   "metadata": {
    "collapsed": true,
    "ExecuteTime": {
     "end_time": "2024-11-11T04:17:37.012613Z",
     "start_time": "2024-11-11T04:17:09.650391Z"
    }
   },
   "source": [
    "import re\n",
    "import spacy\n",
    "import nltk\n",
    "from nltk.corpus import stopwords\n",
    "from nltk.stem import PorterStemmer, WordNetLemmatizer\n",
    "import pandas as pd"
   ],
   "outputs": [],
   "execution_count": 1
  },
  {
   "metadata": {
    "ExecuteTime": {
     "end_time": "2024-11-11T04:19:08.193647Z",
     "start_time": "2024-11-11T04:19:07.701794Z"
    }
   },
   "cell_type": "code",
   "source": [
    "# Download NLTK data if not already done\n",
    "nltk.download('stopwords')\n",
    "nltk.download('wordnet')\n",
    "\n",
    "# Load spaCy model for NER and lemmatization\n",
    "nlp = spacy.load('en_core_web_sm')"
   ],
   "id": "4bd1f72ec78f1bdc",
   "outputs": [
    {
     "name": "stderr",
     "output_type": "stream",
     "text": [
      "[nltk_data] Downloading package stopwords to\n",
      "[nltk_data]     /Users/pradeesh11/nltk_data...\n",
      "[nltk_data]   Package stopwords is already up-to-date!\n",
      "[nltk_data] Downloading package wordnet to\n",
      "[nltk_data]     /Users/pradeesh11/nltk_data...\n",
      "[nltk_data]   Package wordnet is already up-to-date!\n"
     ]
    }
   ],
   "execution_count": 3
  },
  {
   "metadata": {
    "ExecuteTime": {
     "end_time": "2024-11-11T04:23:18.406853Z",
     "start_time": "2024-11-11T04:23:18.401494Z"
    }
   },
   "cell_type": "code",
   "source": [
    "# Initialize stemmer and lemmatizer\n",
    "stemmer = PorterStemmer()\n",
    "lemmatizer = WordNetLemmatizer()"
   ],
   "id": "deb404f2812f9bc1",
   "outputs": [],
   "execution_count": 8
  },
  {
   "metadata": {
    "ExecuteTime": {
     "end_time": "2024-11-11T04:23:20.554212Z",
     "start_time": "2024-11-11T04:23:20.548758Z"
    }
   },
   "cell_type": "code",
   "source": [
    "# Load stopwords from NLTK\n",
    "stop_words = set(stopwords.words('english'))\n",
    "custom_stop_words = {'received', 'stating', 'fraudster', 'message', 'acting', 'police', 'job'}\n",
    "stop_words.update(custom_stop_words)"
   ],
   "id": "832721eef37dc3e6",
   "outputs": [],
   "execution_count": 9
  },
  {
   "metadata": {
    "ExecuteTime": {
     "end_time": "2024-11-11T04:23:22.728441Z",
     "start_time": "2024-11-11T04:23:22.723640Z"
    }
   },
   "cell_type": "code",
   "source": [
    "def preprocess_text(text):\n",
    "    # Check if the input is not a string (e.g., NaN or float), replace it with an empty string\n",
    "    if not isinstance(text, str):\n",
    "        text = ''\n",
    "    \n",
    "    # Step 1: Lowercase the text\n",
    "    text = text.lower()\n",
    "    \n",
    "    # Step 2: Remove non-alphabetic characters\n",
    "    text = re.sub(r'[^a-zA-Z\\s]', '', text)\n",
    "    \n",
    "    # Step 3: Tokenize the text\n",
    "    words = text.split()\n",
    "    \n",
    "    # Step 4: Remove stopwords\n",
    "    words = [word for word in words if word not in stop_words]\n",
    "    \n",
    "    # Step 5: Apply stemming or lemmatization\n",
    "    words = [stemmer.stem(word) for word in words]  # Using stemming\n",
    "    # words = [lemmatizer.lemmatize(word) for word in words]  # Using lemmatization\n",
    "    \n",
    "    # Step 6: Optional NER\n",
    "    doc = nlp(\" \".join(words))\n",
    "    entities = [ent.text for ent in doc.ents]\n",
    "    \n",
    "    # Rebuild the processed text\n",
    "    processed_text = ' '.join(words)\n",
    "    \n",
    "    return processed_text, entities"
   ],
   "id": "3c4d465a8900ba75",
   "outputs": [],
   "execution_count": 10
  },
  {
   "metadata": {
    "ExecuteTime": {
     "end_time": "2024-11-11T04:29:59.953942Z",
     "start_time": "2024-11-11T04:23:25.126723Z"
    }
   },
   "cell_type": "code",
   "source": [
    "# Load the CSV file (replace 'your_file.csv' with your actual file path)\n",
    "file_path = 'train.csv'\n",
    "df = pd.read_csv(file_path)\n",
    "# Fill NaN values in the target column with an empty string\n",
    "df['crimeaditionalinfo'] = df['crimeaditionalinfo'].fillna('')\n",
    "\n",
    "# Check which column contains the text data (assuming 'crime_info' is the column name)\n",
    "# Modify 'crime_info' to the actual column name in your CSV\n",
    "column_name = 'crimeaditionalinfo'\n",
    "\n",
    "# Apply the preprocessing function\n",
    "df['processed_text'], df['extracted_entities'] = zip(*df[column_name].apply(preprocess_text))\n",
    "\n",
    "# Save the processed data to a new CSV file if needed\n",
    "output_file_path = 'processed_data.csv'\n",
    "df.to_csv(output_file_path, index=False)\n",
    "\n",
    "# Display the processed data\n",
    "print(\"Processed Data:\")\n",
    "print(df[['processed_text', 'extracted_entities']])"
   ],
   "id": "680381d0f109a702",
   "outputs": [
    {
     "name": "stdout",
     "output_type": "stream",
     "text": [
      "Processed Data:\n",
      "                                          processed_text  \\\n",
      "0      continu random call abus messag whatsapp someo...   \n",
      "1      continu messag ask pay money send fake crop nu...   \n",
      "2      like demand money ad section text messag reque...   \n",
      "3      apna appli interview telecal resourc manag wro...   \n",
      "4      call ladi send new phone vivo parcel post th f...   \n",
      "...                                                  ...   \n",
      "93681  ident theft smish sm fraud creditdebit card fr...   \n",
      "93682  call number ask phone pay cash back offer requ...   \n",
      "93683  cyber stalk blackmail phonesmsvoip call victim...   \n",
      "93684  call kark bola ki aapka lotari laga ha aru ac ...   \n",
      "93685  app name koko loan app send money account unkn...   \n",
      "\n",
      "                                      extracted_entities  \n",
      "0                                           [abus, issu]  \n",
      "1                                                     []  \n",
      "2                                                     []  \n",
      "3      [appli interview telecal, twelv hundr charg, n...  \n",
      "4                                             [februari]  \n",
      "...                                                  ...  \n",
      "93681              [victim ki pan card, ki connect ayyi]  \n",
      "93682                                                 []  \n",
      "93683                                                 []  \n",
      "93684  [call kark bola ki, lotari laga, aayega lekin ...  \n",
      "93685                                   [rs fraud, abus]  \n",
      "\n",
      "[93686 rows x 2 columns]\n"
     ]
    }
   ],
   "execution_count": 11
  },
  {
   "metadata": {
    "ExecuteTime": {
     "end_time": "2024-11-11T07:09:50.829791Z",
     "start_time": "2024-11-11T07:09:50.693305Z"
    }
   },
   "cell_type": "code",
   "source": "df.head()",
   "id": "313921ad5b83671b",
   "outputs": [
    {
     "data": {
      "text/plain": [
       "                                category                       sub_category  \\\n",
       "0  Online and Social Media Related Crime  Cyber Bullying  Stalking  Sexting   \n",
       "1                 Online Financial Fraud                  Fraud CallVishing   \n",
       "2               Online Gambling  Betting           Online Gambling  Betting   \n",
       "3  Online and Social Media Related Crime                   Online Job Fraud   \n",
       "4                 Online Financial Fraud                  Fraud CallVishing   \n",
       "\n",
       "                                  crimeaditionalinfo  \\\n",
       "0  I had continue received random calls and abusi...   \n",
       "1  The above fraudster is continuously messaging ...   \n",
       "2  He is acting like a police and demanding for m...   \n",
       "3  In apna Job I have applied for job interview f...   \n",
       "4  I received a call from lady stating that she w...   \n",
       "\n",
       "                                      processed_text  \\\n",
       "0  continu random call abus messag whatsapp someo...   \n",
       "1  continu messag ask pay money send fake crop nu...   \n",
       "2  like demand money ad section text messag reque...   \n",
       "3  apna appli interview telecal resourc manag wro...   \n",
       "4  call ladi send new phone vivo parcel post th f...   \n",
       "\n",
       "                                  extracted_entities  \n",
       "0                                       [abus, issu]  \n",
       "1                                                 []  \n",
       "2                                                 []  \n",
       "3  [appli interview telecal, twelv hundr charg, n...  \n",
       "4                                         [februari]  "
      ],
      "text/html": [
       "<div>\n",
       "<style scoped>\n",
       "    .dataframe tbody tr th:only-of-type {\n",
       "        vertical-align: middle;\n",
       "    }\n",
       "\n",
       "    .dataframe tbody tr th {\n",
       "        vertical-align: top;\n",
       "    }\n",
       "\n",
       "    .dataframe thead th {\n",
       "        text-align: right;\n",
       "    }\n",
       "</style>\n",
       "<table border=\"1\" class=\"dataframe\">\n",
       "  <thead>\n",
       "    <tr style=\"text-align: right;\">\n",
       "      <th></th>\n",
       "      <th>category</th>\n",
       "      <th>sub_category</th>\n",
       "      <th>crimeaditionalinfo</th>\n",
       "      <th>processed_text</th>\n",
       "      <th>extracted_entities</th>\n",
       "    </tr>\n",
       "  </thead>\n",
       "  <tbody>\n",
       "    <tr>\n",
       "      <th>0</th>\n",
       "      <td>Online and Social Media Related Crime</td>\n",
       "      <td>Cyber Bullying  Stalking  Sexting</td>\n",
       "      <td>I had continue received random calls and abusi...</td>\n",
       "      <td>continu random call abus messag whatsapp someo...</td>\n",
       "      <td>[abus, issu]</td>\n",
       "    </tr>\n",
       "    <tr>\n",
       "      <th>1</th>\n",
       "      <td>Online Financial Fraud</td>\n",
       "      <td>Fraud CallVishing</td>\n",
       "      <td>The above fraudster is continuously messaging ...</td>\n",
       "      <td>continu messag ask pay money send fake crop nu...</td>\n",
       "      <td>[]</td>\n",
       "    </tr>\n",
       "    <tr>\n",
       "      <th>2</th>\n",
       "      <td>Online Gambling  Betting</td>\n",
       "      <td>Online Gambling  Betting</td>\n",
       "      <td>He is acting like a police and demanding for m...</td>\n",
       "      <td>like demand money ad section text messag reque...</td>\n",
       "      <td>[]</td>\n",
       "    </tr>\n",
       "    <tr>\n",
       "      <th>3</th>\n",
       "      <td>Online and Social Media Related Crime</td>\n",
       "      <td>Online Job Fraud</td>\n",
       "      <td>In apna Job I have applied for job interview f...</td>\n",
       "      <td>apna appli interview telecal resourc manag wro...</td>\n",
       "      <td>[appli interview telecal, twelv hundr charg, n...</td>\n",
       "    </tr>\n",
       "    <tr>\n",
       "      <th>4</th>\n",
       "      <td>Online Financial Fraud</td>\n",
       "      <td>Fraud CallVishing</td>\n",
       "      <td>I received a call from lady stating that she w...</td>\n",
       "      <td>call ladi send new phone vivo parcel post th f...</td>\n",
       "      <td>[februari]</td>\n",
       "    </tr>\n",
       "  </tbody>\n",
       "</table>\n",
       "</div>"
      ]
     },
     "execution_count": 12,
     "metadata": {},
     "output_type": "execute_result"
    }
   ],
   "execution_count": 12
  },
  {
   "metadata": {},
   "cell_type": "code",
   "outputs": [],
   "execution_count": null,
   "source": "",
   "id": "c06a8f5bb125cbe"
  }
 ],
 "metadata": {
  "kernelspec": {
   "display_name": "Python 3",
   "language": "python",
   "name": "python3"
  },
  "language_info": {
   "codemirror_mode": {
    "name": "ipython",
    "version": 2
   },
   "file_extension": ".py",
   "mimetype": "text/x-python",
   "name": "python",
   "nbconvert_exporter": "python",
   "pygments_lexer": "ipython2",
   "version": "2.7.6"
  }
 },
 "nbformat": 4,
 "nbformat_minor": 5
}
